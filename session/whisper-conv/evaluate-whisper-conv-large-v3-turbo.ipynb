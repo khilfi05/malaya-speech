{
 "cells": [
  {
   "cell_type": "code",
   "execution_count": 1,
   "id": "23bf6aaa",
   "metadata": {},
   "outputs": [],
   "source": [
    "import os\n",
    "\n",
    "os.environ['CUDA_VISIBLE_DEVICES'] = '1'"
   ]
  },
  {
   "cell_type": "code",
   "execution_count": 9,
   "id": "cab270f7",
   "metadata": {},
   "outputs": [
    {
     "data": {
      "text/plain": [
       "<torch.autograd.grad_mode.set_grad_enabled at 0x7f3357fcbee0>"
      ]
     },
     "execution_count": 9,
     "metadata": {},
     "output_type": "execute_result"
    }
   ],
   "source": [
    "from transformers import AutoFeatureExtractor, AutoModel, AutoTokenizer\n",
    "import librosa\n",
    "import torch\n",
    "from glob import glob\n",
    "from jiwer import cer\n",
    "from tqdm import tqdm\n",
    "import json\n",
    "import os\n",
    "\n",
    "torch.set_grad_enabled(False)"
   ]
  },
  {
   "cell_type": "code",
   "execution_count": 3,
   "id": "e636abab",
   "metadata": {},
   "outputs": [],
   "source": [
    "from datasets import load_dataset\n",
    "\n",
    "ds = load_dataset(\"malaysia-ai/common_voice_17_0\")"
   ]
  },
  {
   "cell_type": "code",
   "execution_count": 4,
   "id": "33660bfa",
   "metadata": {},
   "outputs": [],
   "source": [
    "df_test = ds['test'].to_pandas()"
   ]
  },
  {
   "cell_type": "code",
   "execution_count": 5,
   "id": "3bde7331",
   "metadata": {},
   "outputs": [
    {
     "data": {
      "text/plain": [
       "(533642, 14)"
      ]
     },
     "execution_count": 5,
     "metadata": {},
     "output_type": "execute_result"
    }
   ],
   "source": [
    "df_test.shape"
   ]
  },
  {
   "cell_type": "code",
   "execution_count": 6,
   "id": "cf7d78d9",
   "metadata": {},
   "outputs": [],
   "source": [
    "model_id = \"mesolitica/whisper-conv-large-v3-turbo\"\n",
    "feature_extractor = AutoFeatureExtractor.from_pretrained(model_id)\n",
    "model = AutoModel.from_pretrained(model_id, trust_remote_code = True, torch_dtype = 'auto').cuda()\n",
    "tokenizer = AutoTokenizer.from_pretrained(model_id)"
   ]
  },
  {
   "cell_type": "code",
   "execution_count": 7,
   "id": "f68e4a33",
   "metadata": {},
   "outputs": [
    {
     "name": "stdout",
     "output_type": "stream",
     "text": [
      "mkdir: cannot create directory ‘evaluate-whisper-conv-large-v3-turbo’: File exists\r\n"
     ]
    }
   ],
   "source": [
    "!mkdir evaluate-whisper-conv-large-v3-turbo"
   ]
  },
  {
   "cell_type": "code",
   "execution_count": 8,
   "id": "4efce9e7",
   "metadata": {
    "scrolled": true
   },
   "outputs": [
    {
     "name": "stderr",
     "output_type": "stream",
     "text": [
      "100%|███████████████████████████████████████████████████████████████████████████████| 266821/266821 [3:45:52<00:00, 19.69it/s]\n"
     ]
    }
   ],
   "source": [
    "from tqdm import tqdm\n",
    "import json\n",
    "import os\n",
    "\n",
    "template = '<|startoftranscript|><|{locale}|><|transcribe|><|notimestamps|>'\n",
    "\n",
    "for i in tqdm(range((len(df_test) // 2) * 0, (len(df_test) // 2) * 1, 1)):\n",
    "    \n",
    "    filename = f'evaluate-whisper-conv-large-v3-turbo/{i}.json'\n",
    "    try:\n",
    "        if os.path.exists(filename):\n",
    "            with open(filename) as fopen:\n",
    "                json.load(fopen)\n",
    "                continue\n",
    "    except:\n",
    "        pass\n",
    "    \n",
    "    t = df_test['sentence'].iloc[i]\n",
    "\n",
    "    if not isinstance(t, str):\n",
    "        continue\n",
    "\n",
    "    if len(t) < 5:\n",
    "        continue\n",
    "\n",
    "    l = df_test['locale'].iloc[i]\n",
    "\n",
    "    if not isinstance(l, str):\n",
    "        continue\n",
    "\n",
    "    if len(l) < 2:\n",
    "        continue\n",
    "            \n",
    "    y, sr = librosa.load(df_test.iloc[i]['audio_filename'], sr = feature_extractor.sampling_rate)\n",
    "    input_ids = tokenizer(template.replace('{locale}', l), \n",
    "        add_special_tokens = False, return_tensors = 'pt')['input_ids']\n",
    "    features = feature_extractor(\n",
    "        [y], \n",
    "        return_tensors = 'pt', \n",
    "        return_attention_mask = True,\n",
    "        sampling_rate = 16000,\n",
    "    )\n",
    "    features['input_features'] = features['input_features'].cuda()\n",
    "    features['attention_mask'] = features['attention_mask'].cuda()\n",
    "    features['decoder_input_ids'] = input_ids.cuda()\n",
    "    generate_kwargs = dict(\n",
    "        **features,\n",
    "        max_new_tokens=256,\n",
    "        temperature=0.1,\n",
    "        do_sample=True\n",
    "    )\n",
    "    generation_output = model.generate(**generate_kwargs)\n",
    "    decoded = tokenizer.decode(generation_output[0])\n",
    "    with open(filename, 'w') as fopen:\n",
    "        json.dump({'predict': decoded, 'actual': t}, fopen)"
   ]
  },
  {
   "cell_type": "code",
   "execution_count": 10,
   "id": "a58b2ef4",
   "metadata": {},
   "outputs": [
    {
     "name": "stderr",
     "output_type": "stream",
     "text": [
      "100%|██████████████████████████████████████████████████████████████████████████████| 532364/532364 [00:26<00:00, 20420.93it/s]\n"
     ]
    },
    {
     "data": {
      "text/plain": [
       "532364"
      ]
     },
     "execution_count": 10,
     "metadata": {},
     "output_type": "execute_result"
    }
   ],
   "source": [
    "from collections import defaultdict\n",
    "import string\n",
    "\n",
    "def clean(s):\n",
    "    s = ''.join([c for c in s.lower() if c not in string.punctuation])\n",
    "    return s.strip()\n",
    "\n",
    "languages = defaultdict(list)\n",
    "\n",
    "files = glob('evaluate-whisper-conv-large-v3-turbo/*')\n",
    "for f in tqdm(files):\n",
    "    with open(f) as fopen:\n",
    "        d = json.load(fopen)\n",
    "    l = d['predict'].split('<|')[2].split('|>')[0]\n",
    "    predict = d['predict'].split('<|notimestamps|>')[1].replace('<|endoftext|>', '')\n",
    "    actual = d['actual']\n",
    "    predict = clean(predict)\n",
    "    actual = clean(actual)\n",
    "    score = cer(actual, predict)\n",
    "    languages[l].append(score)\n",
    "\n",
    "len(files)"
   ]
  },
  {
   "cell_type": "code",
   "execution_count": 12,
   "id": "eb6978a8",
   "metadata": {},
   "outputs": [],
   "source": [
    "with open('languages-evaluate-whisper-conv-large-v3-turbo.json', 'w') as fopen:\n",
    "    json.dump(languages, fopen)"
   ]
  },
  {
   "cell_type": "code",
   "execution_count": 13,
   "id": "6a55c417",
   "metadata": {},
   "outputs": [
    {
     "name": "stdout",
     "output_type": "stream",
     "text": [
      "lang: gl, samples: 9949, CER: 0.042740443121340566\n",
      "lang: en, samples: 16379, CER: 0.060986384009768274\n",
      "lang: ar, samples: 10458, CER: 0.22266123579844427\n",
      "lang: kab, samples: 14972, CER: 0.3244665236586341\n",
      "lang: ml, samples: 703, CER: 0.42335890521056685\n",
      "lang: kk, samples: 514, CER: 0.17043440799796145\n",
      "lang: ltg, samples: 2904, CER: 0.23117590536047175\n",
      "lang: fr, samples: 16145, CER: 0.048485631588568376\n",
      "lang: de, samples: 16170, CER: 0.026314971778193794\n",
      "lang: fi, samples: 1554, CER: 0.05055169332273527\n",
      "lang: pt, samples: 9432, CER: 0.04087286366709751\n",
      "lang: ia, samples: 1816, CER: 0.05992562427372291\n",
      "lang: eu, samples: 13621, CER: 0.0512883172324828\n",
      "lang: ro, samples: 3896, CER: 0.05076617371579273\n",
      "lang: sw, samples: 12086, CER: 0.1507494503501684\n",
      "lang: sv-SE, samples: 5247, CER: 0.061493613079958064\n",
      "lang: ta, samples: 8263, CER: 0.13906399211712145\n",
      "lang: et, samples: 2653, CER: 0.0940406805612152\n",
      "lang: lg, samples: 11902, CER: 0.1739333269639051\n",
      "lang: it, samples: 15154, CER: 0.023851543887980154\n",
      "lang: mhr, samples: 15107, CER: 0.11669897389006022\n",
      "lang: sr, samples: 1539, CER: 0.1768132282095298\n",
      "lang: mr, samples: 1437, CER: 0.19218859045543932\n",
      "lang: ka, samples: 12608, CER: 0.1249808202311083\n",
      "lang: es, samples: 15848, CER: 0.021626970071659344\n",
      "lang: be, samples: 15878, CER: 0.033842475848291816\n",
      "lang: lt, samples: 4753, CER: 0.09010879518888047\n",
      "lang: ca, samples: 16389, CER: 0.03981665496291331\n",
      "lang: eo, samples: 14773, CER: 0.045954869771101005\n",
      "lang: tr, samples: 11235, CER: 0.05675522154877889\n",
      "lang: hu, samples: 11435, CER: 0.04471908954804673\n",
      "lang: ja, samples: 6033, CER: 0.36979170394583843\n",
      "lang: br, samples: 2202, CER: 0.3698327173154907\n",
      "lang: ne-NP, samples: 217, CER: 0.6311209237066987\n",
      "lang: uz, samples: 12006, CER: 0.14525655980276672\n",
      "lang: ru, samples: 10184, CER: 0.030237044051551122\n",
      "lang: dv, samples: 2213, CER: 0.4396708739245023\n",
      "lang: tt, samples: 4953, CER: 0.15263373726156979\n",
      "lang: rw, samples: 14797, CER: 0.2062194796231522\n",
      "lang: bn, samples: 9327, CER: 0.23033462368544436\n",
      "lang: ug, samples: 6108, CER: 0.15066705416170634\n",
      "lang: rm-sursilv, samples: 1361, CER: 0.22034708167584185\n",
      "lang: bg, samples: 3201, CER: 0.06147538075948558\n",
      "lang: ab, samples: 9108, CER: 0.23437651516119973\n",
      "lang: uk, samples: 9915, CER: 0.05952618613972175\n",
      "lang: mt, samples: 1662, CER: 0.24826981610474486\n",
      "lang: fa, samples: 10292, CER: 0.18625054813201342\n",
      "lang: pl, samples: 9186, CER: 0.042953875408088954\n",
      "lang: bas, samples: 541, CER: 0.4306410343558038\n",
      "lang: nl, samples: 11255, CER: 0.025745352458888874\n",
      "lang: zh-CN, samples: 10335, CER: 0.24028746839684906\n",
      "lang: tok, samples: 2175, CER: 0.05378416879373438\n",
      "lang: ur, samples: 4052, CER: 0.1335251795057381\n",
      "lang: sk, samples: 2593, CER: 0.1293953251895765\n",
      "lang: oc, samples: 254, CER: 0.25430326530844893\n",
      "lang: yue, samples: 2585, CER: 0.24481328379140146\n",
      "lang: mrj, samples: 7102, CER: 0.17758088754553472\n",
      "lang: fy-NL, samples: 3167, CER: 0.18638765694302617\n",
      "lang: cs, samples: 9055, CER: 0.03927483627794959\n",
      "lang: th, samples: 10982, CER: 0.21474513392414912\n",
      "lang: ckb, samples: 5262, CER: 0.21311040529692965\n",
      "lang: mn, samples: 1896, CER: 0.40997841020559816\n",
      "lang: ky, samples: 1604, CER: 0.19988688313695105\n",
      "lang: skr, samples: 1006, CER: 0.433359625436932\n",
      "lang: hy-AM, samples: 4281, CER: 0.15392287780406108\n",
      "lang: sl, samples: 1242, CER: 0.09513225423150144\n",
      "lang: vi, samples: 1077, CER: 0.098204374854713\n",
      "lang: hi, samples: 3151, CER: 0.13696196488161588\n",
      "lang: nan-tw, samples: 2317, CER: 0.5831691586562167\n",
      "lang: id, samples: 3633, CER: 0.03486822347502954\n",
      "lang: cy, samples: 5371, CER: 0.18579147648223834\n",
      "lang: yo, samples: 999, CER: 0.5552374946139923\n",
      "lang: sah, samples: 1455, CER: 0.22751567126188318\n",
      "lang: mk, samples: 1097, CER: 0.09952169250027201\n",
      "lang: cv, samples: 1288, CER: 0.2576255518218807\n",
      "lang: myv, samples: 479, CER: 0.18588405953220014\n",
      "lang: da, samples: 2405, CER: 0.06941392064863901\n",
      "lang: lv, samples: 6738, CER: 0.09661537865671035\n",
      "lang: kmr, samples: 3900, CER: 0.2301259104014993\n",
      "lang: tk, samples: 545, CER: 0.36230278052919873\n",
      "lang: nn-NO, samples: 370, CER: 0.14840933723876001\n",
      "lang: ha, samples: 661, CER: 0.2931043936843371\n",
      "lang: he, samples: 260, CER: 0.39141508380891815\n",
      "lang: dyu, samples: 59, CER: 0.61439655320722\n",
      "lang: gn, samples: 855, CER: 0.37302107024653286\n",
      "lang: lij, samples: 694, CER: 0.29544299446782624\n",
      "lang: hsb, samples: 444, CER: 0.22357315869461994\n",
      "lang: pa-IN, samples: 487, CER: 0.4293346665112184\n",
      "lang: el, samples: 1696, CER: 0.09513654126618179\n",
      "lang: zgh, samples: 159, CER: 1.0\n",
      "lang: as, samples: 551, CER: 0.35565880640786546\n",
      "lang: sq, samples: 472, CER: 0.24829234420755228\n",
      "lang: ko, samples: 338, CER: 0.27138642455096107\n",
      "lang: ga-IE, samples: 517, CER: 0.4374031144524405\n",
      "lang: cnh, samples: 763, CER: 0.4734102220225452\n",
      "lang: sat, samples: 147, CER: 1.0\n",
      "lang: rm-vallader, samples: 462, CER: 0.19970230364362926\n",
      "lang: or, samples: 670, CER: 1.0\n",
      "lang: mdf, samples: 104, CER: 0.3026470206470614\n",
      "lang: af, samples: 62, CER: 0.1641456986700316\n",
      "lang: ig, samples: 4, CER: 0.5614456190061029\n",
      "lang: sc, samples: 232, CER: 0.3428693546598864\n",
      "lang: tig, samples: 169, CER: 0.9600079749203083\n",
      "lang: te, samples: 49, CER: 0.48187292278194327\n",
      "lang: ps, samples: 199, CER: 0.352738986222659\n",
      "lang: am, samples: 205, CER: 0.8622565254904031\n",
      "lang: ast, samples: 162, CER: 0.13468806515316542\n",
      "lang: os, samples: 50, CER: 0.4827762620005156\n",
      "lang: lo, samples: 33, CER: 1.0\n",
      "lang: az, samples: 33, CER: 0.12338463797528132\n",
      "lang: ti, samples: 4, CER: 1.0\n",
      "lang: vot, samples: 6, CER: 0.4186810281632936\n",
      "lang: nhi, samples: 5, CER: 0.4055536936182097\n",
      "lang: yi, samples: 6, CER: 0.9078696446408636\n",
      "lang: tw, samples: 9, CER: 0.4916804976841617\n",
      "\n",
      "average CER: 0.2675743317499601\n"
     ]
    }
   ],
   "source": [
    "import numpy as np\n",
    "\n",
    "means = []\n",
    "for k, v in languages.items():\n",
    "    mean = np.mean(v)\n",
    "    if mean >= 1.0:\n",
    "        mean = 1.0\n",
    "    print(f'lang: {k}, samples: {len(v)}, CER: {mean}')\n",
    "    means.append(mean)\n",
    "    \n",
    "print('\\naverage CER:', np.mean(means))"
   ]
  },
  {
   "cell_type": "code",
   "execution_count": null,
   "id": "df2a84fe",
   "metadata": {},
   "outputs": [],
   "source": []
  }
 ],
 "metadata": {
  "kernelspec": {
   "display_name": "python3.10",
   "language": "python",
   "name": "python3.10"
  },
  "language_info": {
   "codemirror_mode": {
    "name": "ipython",
    "version": 3
   },
   "file_extension": ".py",
   "mimetype": "text/x-python",
   "name": "python",
   "nbconvert_exporter": "python",
   "pygments_lexer": "ipython3",
   "version": "3.10.17"
  }
 },
 "nbformat": 4,
 "nbformat_minor": 5
}
