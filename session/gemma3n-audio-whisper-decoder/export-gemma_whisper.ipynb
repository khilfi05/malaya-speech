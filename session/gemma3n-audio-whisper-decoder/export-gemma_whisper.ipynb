{
 "cells": [
  {
   "cell_type": "code",
   "execution_count": 1,
   "id": "2a1b35f7",
   "metadata": {},
   "outputs": [
    {
     "name": "stdout",
     "output_type": "stream",
     "text": [
      "Fri Aug  1 11:06:54 2025       \r\n",
      "+-----------------------------------------------------------------------------------------+\r\n",
      "| NVIDIA-SMI 570.148.08             Driver Version: 570.148.08     CUDA Version: 12.8     |\r\n",
      "|-----------------------------------------+------------------------+----------------------+\r\n",
      "| GPU  Name                 Persistence-M | Bus-Id          Disp.A | Volatile Uncorr. ECC |\r\n",
      "| Fan  Temp   Perf          Pwr:Usage/Cap |           Memory-Usage | GPU-Util  Compute M. |\r\n",
      "|                                         |                        |               MIG M. |\r\n",
      "|=========================================+========================+======================|\r\n",
      "|   0  NVIDIA GH200 480GB             On  |   00000000:DD:00.0 Off |                    0 |\r\n",
      "| N/A   66C    P0            563W /  700W |   41132MiB /  97871MiB |     89%      Default |\r\n",
      "|                                         |                        |             Disabled |\r\n",
      "+-----------------------------------------+------------------------+----------------------+\r\n",
      "                                                                                         \r\n",
      "+-----------------------------------------------------------------------------------------+\r\n",
      "| Processes:                                                                              |\r\n",
      "|  GPU   GI   CI              PID   Type   Process name                        GPU Memory |\r\n",
      "|        ID   ID                                                               Usage      |\r\n",
      "|=========================================================================================|\r\n",
      "|    0   N/A  N/A          105968      C   /usr/bin/python3                      41096MiB |\r\n",
      "+-----------------------------------------------------------------------------------------+\r\n"
     ]
    }
   ],
   "source": [
    "!nvidia-smi"
   ]
  },
  {
   "cell_type": "code",
   "execution_count": 2,
   "id": "0f55fc2f",
   "metadata": {},
   "outputs": [
    {
     "name": "stderr",
     "output_type": "stream",
     "text": [
      "/home/ubuntu/.local/lib/python3.10/site-packages/tqdm/auto.py:21: TqdmWarning: IProgress not found. Please update jupyter and ipywidgets. See https://ipywidgets.readthedocs.io/en/stable/user_install.html\n",
      "  from .autonotebook import tqdm as notebook_tqdm\n",
      "/usr/lib/python3/dist-packages/scipy/__init__.py:146: UserWarning: A NumPy version >=1.17.3 and <1.25.0 is required for this version of SciPy (detected version 1.26.4\n",
      "  warnings.warn(f\"A NumPy version >={np_minversion} and <{np_maxversion}\"\n",
      "2025-08-01 11:07:00.919712: E external/local_xla/xla/stream_executor/cuda/cuda_fft.cc:467] Unable to register cuFFT factory: Attempting to register factory for plugin cuFFT when one has already been registered\n",
      "WARNING: All log messages before absl::InitializeLog() is called are written to STDERR\n",
      "E0000 00:00:1754046420.929682  119688 cuda_dnn.cc:8579] Unable to register cuDNN factory: Attempting to register factory for plugin cuDNN when one has already been registered\n",
      "E0000 00:00:1754046420.934453  119688 cuda_blas.cc:1407] Unable to register cuBLAS factory: Attempting to register factory for plugin cuBLAS when one has already been registered\n",
      "W0000 00:00:1754046420.940063  119688 computation_placer.cc:177] computation placer already registered. Please check linkage and avoid linking the same target more than once.\n",
      "W0000 00:00:1754046420.940079  119688 computation_placer.cc:177] computation placer already registered. Please check linkage and avoid linking the same target more than once.\n",
      "W0000 00:00:1754046420.940080  119688 computation_placer.cc:177] computation placer already registered. Please check linkage and avoid linking the same target more than once.\n",
      "W0000 00:00:1754046420.940083  119688 computation_placer.cc:177] computation placer already registered. Please check linkage and avoid linking the same target more than once.\n",
      "/home/ubuntu/.local/lib/python3.10/site-packages/matplotlib/projections/__init__.py:63: UserWarning: Unable to import Axes3D. This may be due to multiple versions of Matplotlib being installed (e.g. as a system package and as a pip package). As a result, the 3D projection is not available.\n",
      "  warnings.warn(\"Unable to import Axes3D. This may be due to multiple versions of \"\n"
     ]
    },
    {
     "data": {
      "text/plain": [
       "<torch.autograd.grad_mode.set_grad_enabled at 0xf544a472ba30>"
      ]
     },
     "execution_count": 2,
     "metadata": {},
     "output_type": "execute_result"
    }
   ],
   "source": [
    "from gemma_whisper import GemmaWhisperForConditionalGeneration\n",
    "from transformers import AutoFeatureExtractor, AutoTokenizer, AutoProcessor\n",
    "import librosa\n",
    "import torch\n",
    "\n",
    "torch.set_grad_enabled(False)"
   ]
  },
  {
   "cell_type": "code",
   "execution_count": 3,
   "id": "e714f8f1",
   "metadata": {},
   "outputs": [],
   "source": [
    "GemmaWhisperForConditionalGeneration.register_for_auto_class(\"AutoModel\")"
   ]
  },
  {
   "cell_type": "code",
   "execution_count": 4,
   "id": "b6c138c0",
   "metadata": {},
   "outputs": [
    {
     "name": "stdout",
     "output_type": "stream",
     "text": [
      "checkpoint-134000  checkpoint-134500  checkpoint-135000  runs\r\n"
     ]
    }
   ],
   "source": [
    "!ls gemma3n-audio-whisper-decoder-v3"
   ]
  },
  {
   "cell_type": "code",
   "execution_count": 5,
   "id": "44836f63",
   "metadata": {},
   "outputs": [],
   "source": [
    "model = GemmaWhisperForConditionalGeneration.from_pretrained(\n",
    "    'gemma3n-audio-whisper-decoder-v3/checkpoint-133500', torch_dtype = 'auto')"
   ]
  },
  {
   "cell_type": "code",
   "execution_count": 6,
   "id": "096f7a0d",
   "metadata": {},
   "outputs": [],
   "source": [
    "_ = model.cuda()"
   ]
  },
  {
   "cell_type": "code",
   "execution_count": 7,
   "id": "29f4b580",
   "metadata": {},
   "outputs": [],
   "source": [
    "feature_extractor = AutoFeatureExtractor.from_pretrained('mesolitica/gemma-3n-e4b-it-audio-encoder')\n",
    "tokenizer = AutoTokenizer.from_pretrained('openai/whisper-large-v3-turbo')\n",
    "processor = AutoProcessor.from_pretrained('openai/whisper-large-v3-turbo')"
   ]
  },
  {
   "cell_type": "code",
   "execution_count": 8,
   "id": "f1d2550d",
   "metadata": {},
   "outputs": [],
   "source": [
    "from streaming import MDSWriter, LocalDataset\n",
    "\n",
    "dataset = LocalDataset('mosaic-stt-include-malaysian')"
   ]
  },
  {
   "cell_type": "code",
   "execution_count": 11,
   "id": "469292c2",
   "metadata": {},
   "outputs": [
    {
     "name": "stderr",
     "output_type": "stream",
     "text": [
      "The following generation flags are not valid and may be ignored: ['temperature']. Set `TRANSFORMERS_VERBOSITY=info` for more details.\n"
     ]
    },
    {
     "data": {
      "text/plain": [
       "('<|startoftranscript|><|rw|><|transcribe|><|notimestamps|> hakurikijwe ibikenewe kurusha ibindi<|endoftext|>',\n",
       " '<|startoftranscript|><|rw|><|transcribe|><|notimestamps|> hakurikijwe ibikenewe kurusha ibindi.<|endoftext|>')"
      ]
     },
     "execution_count": 11,
     "metadata": {},
     "output_type": "execute_result"
    }
   ],
   "source": [
    "i = -700000\n",
    "t = dataset[i]['text']\n",
    "y, sr = librosa.load(dataset[i]['audio_filename'], sr = feature_extractor.sampling_rate)\n",
    "tokenized = tokenizer(dataset[i]['text'], add_special_tokens = False)['input_ids']\n",
    "input_ids = []\n",
    "for k in tokenized:\n",
    "    input_ids.append(k)\n",
    "    if k == 50364:\n",
    "        break\n",
    "features = feature_extractor([y], return_tensors = 'pt')\n",
    "features['input_features'] = features['input_features'].cuda()\n",
    "features['input_features_mask'] = features['input_features_mask'].cuda()\n",
    "features['attention_mask'] = features['input_features_mask']\n",
    "features['decoder_input_ids'] = torch.tensor(input_ids)[None].cuda()\n",
    "\n",
    "generate_kwargs = dict(\n",
    "    **features,\n",
    "    max_new_tokens=1024,\n",
    "    temperature=0.0,\n",
    "    do_sample=False\n",
    ")\n",
    "generation_output = model.generate(**generate_kwargs)\n",
    "tokenizer.decode(generation_output[0]), t"
   ]
  },
  {
   "cell_type": "code",
   "execution_count": 12,
   "id": "35a185cf",
   "metadata": {},
   "outputs": [
    {
     "name": "stderr",
     "output_type": "stream",
     "text": [
      "Processing Files (0 / 0)                : |                                                                                                                                   |  0.00B /  0.00B            \n",
      "New Data Upload                         : |                                                                                                                                   |  0.00B /  0.00B            \u001b[A\n",
      "\n",
      "  /tmp/tmpzs73sloo/model.safetensors    :   0%|                                                                                                                               |  215kB / 3.44GB            \u001b[A\u001b[A\n",
      "\n",
      "Processing Files (0 / 1)                :   0%|                                                                                                                               |  215kB / 3.44GB,   ???B/s  \u001b[A\u001b[A\n",
      "\n",
      "Processing Files (0 / 1)                :   1%|█▏                                                                                                                             | 32.6MB / 3.44GB,  162MB/s  \u001b[A\u001b[A\n",
      "New Data Upload                         :  24%|██████████████████████████████▋                                                                                                | 32.4MB /  134MB,  162MB/s  \u001b[A\n",
      "\n",
      "Processing Files (0 / 1)                :   5%|█████▉                                                                                                                         |  160MB / 3.44GB,  400MB/s  \u001b[A\u001b[A\n",
      "New Data Upload                         :  80%|████████████████████████████████████████████████████████████████████████████████████████████████████▉                          |  160MB /  201MB,  400MB/s  \u001b[A\n",
      "\n",
      "Processing Files (0 / 1)                :   7%|████████▌                                                                                                                      |  232MB / 3.44GB,  387MB/s  \u001b[A\u001b[A\n",
      "New Data Upload                         :  69%|███████████████████████████████████████████████████████████████████████████████████████▉                                       |  232MB /  335MB,  387MB/s  \u001b[A\n",
      "\n",
      "Processing Files (0 / 1)                :   9%|███████████▏                                                                                                                   |  302MB / 3.44GB,  377MB/s  \u001b[A\u001b[A\n",
      "New Data Upload                         :  75%|███████████████████████████████████████████████████████████████████████████████████████████████▏                               |  302MB /  403MB,  377MB/s  \u001b[A\n",
      "\n",
      "Processing Files (0 / 1)                :  12%|██████████████▌                                                                                                                |  395MB / 3.44GB,  395MB/s  \u001b[A\u001b[A\n",
      "New Data Upload                         :  84%|██████████████████████████████████████████████████████████████████████████████████████████████████████████▊                    |  395MB /  470MB,  395MB/s  \u001b[A\n",
      "\n",
      "Processing Files (0 / 1)                :  14%|██████████████████▍                                                                                                            |  498MB / 3.44GB,  415MB/s  \u001b[A\u001b[A\n",
      "New Data Upload                         :  93%|█████████████████████████████████████████████████████████████████████████████████████████████████████████████████████▊         |  498MB /  537MB,  415MB/s  \u001b[A\n",
      "\n",
      "Processing Files (0 / 1)                :  17%|█████████████████████▊                                                                                                         |  589MB / 3.44GB,  420MB/s  \u001b[A\u001b[A\n",
      "New Data Upload                         :  88%|███████████████████████████████████████████████████████████████████████████████████████████████████████████████▍               |  589MB /  671MB,  420MB/s  \u001b[A\n",
      "\n",
      "Processing Files (0 / 1)                :  23%|█████████████████████████████                                                                                                  |  786MB / 3.44GB,  491MB/s  \u001b[A\u001b[A\n",
      "New Data Upload                         : 100%|██████████████████████████████████████████████████████████████████████████████████████████████████████████████████████████████▌|  668MB /  671MB,  418MB/s  \u001b[A\n",
      "\n",
      "Processing Files (0 / 1)                :  28%|███████████████████████████████████▉                                                                                           |  972MB / 3.44GB,  540MB/s  \u001b[A\u001b[A\n",
      "New Data Upload                         : 100%|██████████████████████████████████████████████████████████████████████████████████████████████████████████████████████████████▋|  669MB /  671MB,  372MB/s  \u001b[A\n",
      "\n",
      "Processing Files (0 / 1)                :  33%|██████████████████████████████████████████                                                                                     | 1.14GB / 3.44GB,  570MB/s  \u001b[A\u001b[A\n",
      "New Data Upload                         : 100%|██████████████████████████████████████████████████████████████████████████████████████████████████████████████████████████████▊|  670MB /  671MB,  335MB/s  \u001b[A\n",
      "\n",
      "Processing Files (0 / 1)                :  39%|████████████████████████████████████████████████▉                                                                              | 1.32GB / 3.44GB,  602MB/s  \u001b[A\u001b[A\n",
      "New Data Upload                         : 100%|██████████████████████████████████████████████████████████████████████████████████████████████████████████████████████████████▊|  670MB /  671MB,  305MB/s  \u001b[A\n",
      "\n",
      "Processing Files (0 / 1)                :  43%|███████████████████████████████████████████████████████▏                                                                       | 1.49GB / 3.44GB,  622MB/s  \u001b[A\u001b[A\n",
      "New Data Upload                         : 100%|██████████████████████████████████████████████████████████████████████████████████████████████████████████████████████████████▉|  670MB /  671MB,  279MB/s  \u001b[A\n",
      "\n",
      "Processing Files (0 / 1)                :  49%|█████████████████████████████████████████████████████████████▋                                                                 | 1.67GB / 3.44GB,  642MB/s  \u001b[A\u001b[A\n",
      "New Data Upload                         : 100%|███████████████████████████████████████████████████████████████████████████████████████████████████████████████████████████████|  671MB /  671MB,  258MB/s  \u001b[A\n",
      "\n",
      "Processing Files (0 / 1)                :  54%|████████████████████████████████████████████████████████████████████▌                                                          | 1.85GB / 3.44GB,  662MB/s  \u001b[A\u001b[A\n",
      "\n",
      "Processing Files (0 / 1)                :  59%|██████████████████████████████████████████████████████████████████████████▋                                                    | 2.02GB / 3.44GB,  674MB/s  \u001b[A\u001b[A\n",
      "\n",
      "Processing Files (0 / 1)                :  64%|█████████████████████████████████████████████████████████████████████████████████▏                                             | 2.20GB / 3.44GB,  687MB/s  \u001b[A\u001b[A\n",
      "\n",
      "Processing Files (0 / 1)                :  69%|███████████████████████████████████████████████████████████████████████████████████████▋                                       | 2.37GB / 3.44GB,  698MB/s  \u001b[A\u001b[A\n",
      "\n",
      "Processing Files (0 / 1)                :  74%|██████████████████████████████████████████████████████████████████████████████████████████████▏                                | 2.55GB / 3.44GB,  708MB/s  \u001b[A\u001b[A\n",
      "\n",
      "Processing Files (0 / 1)                :  79%|████████████████████████████████████████████████████████████████████████████████████████████████████▋                          | 2.73GB / 3.44GB,  718MB/s  \u001b[A\u001b[A\n",
      "\n",
      "Processing Files (0 / 1)                :  84%|██████████████████████████████████████████████████████████████████████████████████████████████████████████▉                    | 2.89GB / 3.44GB,  723MB/s  \u001b[A\u001b[A\n",
      "\n",
      "Processing Files (0 / 1)                :  89%|█████████████████████████████████████████████████████████████████████████████████████████████████████████████████▍             | 3.07GB / 3.44GB,  731MB/s  \u001b[A\u001b[A\n",
      "\n",
      "Processing Files (0 / 1)                :  94%|███████████████████████████████████████████████████████████████████████████████████████████████████████████████████████▉       | 3.25GB / 3.44GB,  738MB/s  \u001b[A\u001b[A\n",
      "\n",
      "Processing Files (0 / 1)                :  99%|█████████████████████████████████████████████████████████████████████████████████████████████████████████████████████████████▉ | 3.41GB / 3.44GB,  741MB/s  \u001b[A\u001b[A\n",
      "\n",
      "Processing Files (0 / 1)                : 100%|██████████████████████████████████████████████████████████████████████████████████████████████████████████████████████████████▉| 3.44GB / 3.44GB,  716MB/s  \u001b[A\u001b[A\n",
      "New Data Upload                         : 100%|██████████████████████████████████████████████████████████████████████████████████████████████████████████████████████████████▉|  698MB /  698MB,  145MB/s  \u001b[A\n",
      "\n",
      "  /tmp/tmpzs73sloo/model.safetensors    : 100%|██████████████████████████████████████████████████████████████████████████████████████████████████████████████████████████████▉| 3.44GB / 3.44GB            \u001b[A\u001b[A\n",
      "\n",
      "Processing Files (1 / 1)                : 100%|███████████████████████████████████████████████████████████████████████████████████████████████████████████████████████████████| 3.44GB / 3.44GB,  661MB/s  \u001b[A\u001b[A\n",
      "New Data Upload                         : 100%|███████████████████████████████████████████████████████████████████████████████████████████████████████████████████████████████|  698MB /  698MB,  134MB/s  \u001b[A\n",
      "\n",
      "  /tmp/tmpzs73sloo/model.safetensors    : 100%|███████████████████████████████████████████████████████████████████████████████████████████████████████████████████████████████| 3.44GB / 3.44GB            \u001b[A\u001b[A\n",
      "\n",
      "  /tmp/tmpzs73sloo/model.safetensors    : 100%|███████████████████████████████████████████████████████████████████████████████████████████████████████████████████████████████| 3.44GB / 3.44GB            \u001b[A\u001b[A\n",
      "\n",
      "  /tmp/tmpzs73sloo/model.safetensors    : 100%|███████████████████████████████████████████████████████████████████████████████████████████████████████████████████████████████| 3.44GB / 3.44GB            \u001b[A\u001b[A\n",
      "\n",
      "Processing Files (1 / 1)                : 100%|███████████████████████████████████████████████████████████████████████████████████████████████████████████████████████████████| 3.44GB / 3.44GB,  593MB/s  \u001b[A\u001b[A\n",
      "New Data Upload                         : 100%|███████████████████████████████████████████████████████████████████████████████████████████████████████████████████████████████|  698MB /  698MB,  120MB/s  \n",
      "  /tmp/tmpzs73sloo/model.safetensors    : 100%|███████████████████████████████████████████████████████████████████████████████████████████████████████████████████████████████| 3.44GB / 3.44GB            \n"
     ]
    },
    {
     "data": {
      "text/plain": [
       "CommitInfo(commit_url='https://huggingface.co/mesolitica/gemma3n-audio-encoder-whisper-decoder/commit/1af13f83f6365b1e62e8bd66ce1a69d083054f3c', commit_message='Upload GemmaWhisperForConditionalGeneration', commit_description='', oid='1af13f83f6365b1e62e8bd66ce1a69d083054f3c', pr_url=None, repo_url=RepoUrl('https://huggingface.co/mesolitica/gemma3n-audio-encoder-whisper-decoder', endpoint='https://huggingface.co', repo_type='model', repo_id='mesolitica/gemma3n-audio-encoder-whisper-decoder'), pr_revision=None, pr_num=None)"
      ]
     },
     "execution_count": 12,
     "metadata": {},
     "output_type": "execute_result"
    }
   ],
   "source": [
    "model.push_to_hub('mesolitica/gemma3n-audio-encoder-whisper-decoder')"
   ]
  },
  {
   "cell_type": "code",
   "execution_count": 13,
   "id": "bbfff00d",
   "metadata": {},
   "outputs": [
    {
     "data": {
      "text/plain": [
       "'<|startoftranscript|><|ru|><|transcribe|><|notimestamps|> Кубы сыра кто был халгя, кешенен, битарафлыгы сепепсе.<|endoftext|>'"
      ]
     },
     "execution_count": 13,
     "metadata": {},
     "output_type": "execute_result"
    }
   ],
   "source": [
    "y, sr = librosa.load('common_voice_ba_26517811.mp3', sr = feature_extractor.sampling_rate)\n",
    "input_ids = tokenizer(\n",
    "    '<|startoftranscript|><|ru|><|transcribe|><|notimestamps|>', \n",
    "    add_special_tokens = False, return_tensors = 'pt')['input_ids']\n",
    "features = feature_extractor([y], return_tensors = 'pt')\n",
    "features['input_features'] = features['input_features'].cuda()\n",
    "features['input_features_mask'] = features['input_features_mask'].cuda()\n",
    "features['attention_mask'] = features['input_features_mask']\n",
    "features['decoder_input_ids'] = input_ids.cuda()\n",
    "\n",
    "generate_kwargs = dict(\n",
    "    **features,\n",
    "    max_new_tokens=1024,\n",
    "    temperature=0.1,\n",
    "    do_sample=True\n",
    ")\n",
    "generation_output = model.generate(**generate_kwargs)\n",
    "tokenizer.decode(generation_output[0])"
   ]
  }
 ],
 "metadata": {
  "kernelspec": {
   "display_name": "Python 3 (ipykernel)",
   "language": "python",
   "name": "python3"
  },
  "language_info": {
   "codemirror_mode": {
    "name": "ipython",
    "version": 3
   },
   "file_extension": ".py",
   "mimetype": "text/x-python",
   "name": "python",
   "nbconvert_exporter": "python",
   "pygments_lexer": "ipython3",
   "version": "3.10.12"
  }
 },
 "nbformat": 4,
 "nbformat_minor": 5
}
