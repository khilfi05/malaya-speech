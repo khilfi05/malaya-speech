{
 "cells": [
  {
   "cell_type": "code",
   "execution_count": 1,
   "id": "e24b78f2",
   "metadata": {},
   "outputs": [
    {
     "name": "stderr",
     "output_type": "stream",
     "text": [
      "/home/ubuntu/.local/lib/python3.10/site-packages/tqdm/auto.py:21: TqdmWarning: IProgress not found. Please update jupyter and ipywidgets. See https://ipywidgets.readthedocs.io/en/stable/user_install.html\n",
      "  from .autonotebook import tqdm as notebook_tqdm\n",
      "/usr/lib/python3/dist-packages/scipy/__init__.py:146: UserWarning: A NumPy version >=1.17.3 and <1.25.0 is required for this version of SciPy (detected version 1.26.4\n",
      "  warnings.warn(f\"A NumPy version >={np_minversion} and <{np_maxversion}\"\n",
      "2025-08-01 14:36:29.617476: E external/local_xla/xla/stream_executor/cuda/cuda_fft.cc:467] Unable to register cuFFT factory: Attempting to register factory for plugin cuFFT when one has already been registered\n",
      "WARNING: All log messages before absl::InitializeLog() is called are written to STDERR\n",
      "E0000 00:00:1754058989.627550  122991 cuda_dnn.cc:8579] Unable to register cuDNN factory: Attempting to register factory for plugin cuDNN when one has already been registered\n",
      "E0000 00:00:1754058989.631977  122991 cuda_blas.cc:1407] Unable to register cuBLAS factory: Attempting to register factory for plugin cuBLAS when one has already been registered\n",
      "W0000 00:00:1754058989.637270  122991 computation_placer.cc:177] computation placer already registered. Please check linkage and avoid linking the same target more than once.\n",
      "W0000 00:00:1754058989.637283  122991 computation_placer.cc:177] computation placer already registered. Please check linkage and avoid linking the same target more than once.\n",
      "W0000 00:00:1754058989.637285  122991 computation_placer.cc:177] computation placer already registered. Please check linkage and avoid linking the same target more than once.\n",
      "W0000 00:00:1754058989.637287  122991 computation_placer.cc:177] computation placer already registered. Please check linkage and avoid linking the same target more than once.\n",
      "/home/ubuntu/.local/lib/python3.10/site-packages/matplotlib/projections/__init__.py:63: UserWarning: Unable to import Axes3D. This may be due to multiple versions of Matplotlib being installed (e.g. as a system package and as a pip package). As a result, the 3D projection is not available.\n",
      "  warnings.warn(\"Unable to import Axes3D. This may be due to multiple versions of \"\n"
     ]
    },
    {
     "data": {
      "text/plain": [
       "<torch.autograd.grad_mode.set_grad_enabled at 0xf38ddc39b580>"
      ]
     },
     "execution_count": 1,
     "metadata": {},
     "output_type": "execute_result"
    }
   ],
   "source": [
    "from gemmavq_whisper import GemmaWhisperForConditionalGeneration\n",
    "from transformers import AutoFeatureExtractor, AutoTokenizer, AutoProcessor\n",
    "import librosa\n",
    "import torch\n",
    "\n",
    "torch.set_grad_enabled(False)"
   ]
  },
  {
   "cell_type": "code",
   "execution_count": 2,
   "id": "4d289d7e",
   "metadata": {},
   "outputs": [],
   "source": [
    "GemmaWhisperForConditionalGeneration.register_for_auto_class(\"AutoModel\")"
   ]
  },
  {
   "cell_type": "code",
   "execution_count": 3,
   "id": "de106818",
   "metadata": {},
   "outputs": [
    {
     "name": "stdout",
     "output_type": "stream",
     "text": [
      "checkpoint-147500  checkpoint-148000  checkpoint-148500  runs\r\n"
     ]
    }
   ],
   "source": [
    "!ls gemma3n-audio-vq-whisper-decoder-v5"
   ]
  },
  {
   "cell_type": "code",
   "execution_count": 4,
   "id": "2d459ed0",
   "metadata": {},
   "outputs": [],
   "source": [
    "model = GemmaWhisperForConditionalGeneration.from_pretrained(\n",
    "    'gemma3n-audio-vq-whisper-decoder-v5/checkpoint-148500', torch_dtype = 'auto')"
   ]
  },
  {
   "cell_type": "code",
   "execution_count": 5,
   "id": "d2fb7488",
   "metadata": {},
   "outputs": [],
   "source": [
    "_ = model.cuda()"
   ]
  },
  {
   "cell_type": "code",
   "execution_count": 6,
   "id": "18d505e3",
   "metadata": {},
   "outputs": [
    {
     "data": {
      "text/plain": [
       "tensor(1., device='cuda:0')"
      ]
     },
     "execution_count": 6,
     "metadata": {},
     "output_type": "execute_result"
    }
   ],
   "source": [
    "(model.model.decoder.embed_tokens.weight == model.proj_out.weight).float().mean()"
   ]
  },
  {
   "cell_type": "code",
   "execution_count": 7,
   "id": "cd05fbe5",
   "metadata": {},
   "outputs": [],
   "source": [
    "feature_extractor = AutoFeatureExtractor.from_pretrained('mesolitica/gemma-3n-e4b-it-audio-encoder')\n",
    "tokenizer = AutoTokenizer.from_pretrained('openai/whisper-large-v3-turbo')"
   ]
  },
  {
   "cell_type": "code",
   "execution_count": 8,
   "id": "e5a53047",
   "metadata": {},
   "outputs": [],
   "source": [
    "from streaming import MDSWriter, LocalDataset\n",
    "\n",
    "dataset = LocalDataset('mosaic-stt-include-malaysian')"
   ]
  },
  {
   "cell_type": "code",
   "execution_count": 9,
   "id": "2f4b1cc6",
   "metadata": {},
   "outputs": [],
   "source": [
    "encoder = model.model.get_encoder()"
   ]
  },
  {
   "cell_type": "code",
   "execution_count": 10,
   "id": "8d4d9ad5",
   "metadata": {},
   "outputs": [
    {
     "name": "stdout",
     "output_type": "stream",
     "text": [
      "tensor([30775,  1587, 15003, 31780,    58, 16102, 25962,  3368, 24676, 28593,\n",
      "         4429, 22812,  5879, 28407, 22852, 26137, 12420, 18597, 30501, 19939,\n",
      "         5266, 21355,  1644, 23031,  3164,  4653, 30055, 11051, 20250],\n",
      "       device='cuda:0')\n"
     ]
    }
   ],
   "source": [
    "y, sr = librosa.load('common_voice_ba_26517811.mp3', sr = feature_extractor.sampling_rate)\n",
    "features = feature_extractor([y], return_tensors = 'pt')\n",
    "features['input_features'] = features['input_features'].cuda()\n",
    "features['input_features_mask'] = features['input_features_mask'].cuda()\n",
    "_, tokens = encoder(**features)\n",
    "print(tokens)"
   ]
  },
  {
   "cell_type": "code",
   "execution_count": 11,
   "id": "a9d744bb",
   "metadata": {},
   "outputs": [
    {
     "name": "stdout",
     "output_type": "stream",
     "text": [
      "218757.mp3  common_voice_ba_26517811.mp3\r\n"
     ]
    }
   ],
   "source": [
    "!ls *.mp3"
   ]
  },
  {
   "cell_type": "code",
   "execution_count": 15,
   "id": "fd65b420",
   "metadata": {},
   "outputs": [
    {
     "data": {
      "text/plain": [
       "'<|startoftranscript|><|ms|><|transcribe|><|notimestamps|> Sikit sebelum ini membuka pelikannya kebenaran khas kebenaran terhadap pihak menengah tujuan diwarisi, betul-betul dihantar untuk dikunci orang. Padahal saya lihat kata-kata boleh ambil risau kalau saya lebih buruk mengatakan dokumen di rumah.<|endoftext|>'"
      ]
     },
     "execution_count": 15,
     "metadata": {},
     "output_type": "execute_result"
    }
   ],
   "source": [
    "y, sr = librosa.load('218757.mp3', sr = feature_extractor.sampling_rate)\n",
    "input_ids = tokenizer(\n",
    "    '<|startoftranscript|><|ru|><|transcribe|><|notimestamps|>', \n",
    "    add_special_tokens = False, return_tensors = 'pt')['input_ids']\n",
    "features = feature_extractor([y], return_tensors = 'pt')\n",
    "features['input_features'] = features['input_features'].cuda()\n",
    "features['input_features_mask'] = features['input_features_mask'].cuda()\n",
    "features['attention_mask'] = features['input_features_mask']\n",
    "features['decoder_input_ids'] = input_ids.cuda()\n",
    "\n",
    "generate_kwargs = dict(\n",
    "    **features,\n",
    "    max_new_tokens=1024,\n",
    ")\n",
    "generation_output = model.generate(**generate_kwargs)\n",
    "tokenizer.decode(generation_output[0])"
   ]
  },
  {
   "cell_type": "code",
   "execution_count": 16,
   "id": "b52287f6",
   "metadata": {},
   "outputs": [
    {
     "name": "stderr",
     "output_type": "stream",
     "text": [
      "Processing Files (0 / 0)                : |                                                                                                                                   |  0.00B /  0.00B            \n",
      "New Data Upload                         : |                                                                                                                                   |  0.00B /  0.00B            \u001b[A\n",
      "\n",
      "  /tmp/tmpkd27c6j1/model.safetensors    :   0%|                                                                                                                               | 24.3kB / 3.61GB            \u001b[A\u001b[A\n",
      "\n",
      "Processing Files (0 / 1)                :   0%|                                                                                                                               | 24.3kB / 3.61GB,   ???B/s  \u001b[A\u001b[A\n",
      "\n",
      "Processing Files (0 / 1)                :   2%|██▎                                                                                                                            | 67.3MB / 3.61GB,  338MB/s  \u001b[A\u001b[A\n",
      "New Data Upload                         :  50%|███████████████████████████████████████████████████████████████▋                                                               | 67.2MB /  134MB,  338MB/s  \u001b[A\n",
      "\n",
      "Processing Files (0 / 1)                :   4%|█████                                                                                                                          |  144MB / 3.61GB,  360MB/s  \u001b[A\u001b[A\n",
      "New Data Upload                         :  71%|██████████████████████████████████████████████████████████████████████████████████████████▋                                    |  144MB /  201MB,  359MB/s  \u001b[A\n",
      "\n",
      "Processing Files (0 / 1)                :   7%|████████▌                                                                                                                      |  245MB / 3.61GB,  409MB/s  \u001b[A\u001b[A\n",
      "New Data Upload                         :  73%|████████████████████████████████████████████████████████████████████████████████████████████▋                                  |  245MB /  335MB,  409MB/s  \u001b[A\n",
      "\n",
      "Processing Files (0 / 1)                :   9%|███████████▍                                                                                                                   |  325MB / 3.61GB,  406MB/s  \u001b[A\u001b[A\n",
      "New Data Upload                         :  81%|██████████████████████████████████████████████████████████████████████████████████████████████████████▍                        |  324MB /  402MB,  406MB/s  \u001b[A\n",
      "\n",
      "Processing Files (0 / 1)                :  11%|██████████████▌                                                                                                                |  415MB / 3.61GB,  415MB/s  \u001b[A\u001b[A\n",
      "New Data Upload                         :  88%|████████████████████████████████████████████████████████████████████████████████████████████████████████████████▏              |  415MB /  469MB,  415MB/s  \u001b[A\n",
      "\n",
      "Processing Files (0 / 1)                :  14%|█████████████████▎                                                                                                             |  494MB / 3.61GB,  412MB/s  \u001b[A\u001b[A\n",
      "New Data Upload                         :  82%|███████████████████████████████████████████████████████████████████████████████████████████████████████▉                       |  494MB /  603MB,  412MB/s  \u001b[A\n",
      "\n",
      "Processing Files (0 / 1)                :  17%|█████████████████████                                                                                                          |  601MB / 3.61GB,  429MB/s  \u001b[A\u001b[A\n",
      "New Data Upload                         :  90%|█████████████████████████████████████████████████████████████████████████████████████████████████████████████████▋             |  600MB /  670MB,  429MB/s  \u001b[A\n",
      "\n",
      "Processing Files (0 / 1)                :  19%|███████████████████████▋                                                                                                       |  674MB / 3.61GB,  422MB/s  \u001b[A\u001b[A\n",
      "New Data Upload                         :  91%|████████████████████████████████████████████████████████████████████████████████████████████████████████████████████           |  674MB /  737MB,  421MB/s  \u001b[A\n",
      "\n",
      "Processing Files (0 / 1)                :  21%|██████████████████████████▌                                                                                                    |  757MB / 3.61GB,  421MB/s  \u001b[A\u001b[A\n",
      "New Data Upload                         :  94%|███████████████████████████████████████████████████████████████████████████████████████████████████████████████████████▍       |  757MB /  805MB,  421MB/s  \u001b[A\n",
      "\n",
      "Processing Files (0 / 1)                :  27%|█████████████████████████████████▊                                                                                             |  963MB / 3.61GB,  482MB/s  \u001b[A\u001b[A\n",
      "New Data Upload                         : 100%|██████████████████████████████████████████████████████████████████████████████████████████████████████████████████████████████▊|  803MB /  805MB,  402MB/s  \u001b[A\n",
      "\n",
      "Processing Files (0 / 1)                :  32%|████████████████████████████████████████                                                                                       | 1.14GB / 3.61GB,  518MB/s  \u001b[A\u001b[A\n",
      "New Data Upload                         : 100%|██████████████████████████████████████████████████████████████████████████████████████████████████████████████████████████████▊|  804MB /  805MB,  365MB/s  \u001b[A\n",
      "\n",
      "Processing Files (0 / 1)                :  36%|██████████████████████████████████████████████▎                                                                                | 1.32GB / 3.61GB,  548MB/s  \u001b[A\u001b[A\n",
      "New Data Upload                         : 100%|██████████████████████████████████████████████████████████████████████████████████████████████████████████████████████████████▉|  804MB /  805MB,  335MB/s  \u001b[A\n",
      "\n",
      "Processing Files (0 / 1)                :  41%|████████████████████████████████████████████████████▍                                                                          | 1.49GB / 3.61GB,  574MB/s  \u001b[A\u001b[A\n",
      "New Data Upload                         : 100%|██████████████████████████████████████████████████████████████████████████████████████████████████████████████████████████████▉|  804MB /  805MB,  309MB/s  \u001b[A\n",
      "\n",
      "Processing Files (0 / 1)                :  46%|██████████████████████████████████████████████████████████▍                                                                    | 1.66GB / 3.61GB,  593MB/s  \u001b[A\u001b[A\n",
      "New Data Upload                         : 100%|███████████████████████████████████████████████████████████████████████████████████████████████████████████████████████████████|  805MB /  805MB,  287MB/s  \u001b[A\n",
      "\n",
      "Processing Files (0 / 1)                :  51%|████████████████████████████████████████████████████████████████▌                                                              | 1.84GB / 3.61GB,  612MB/s  \u001b[A\u001b[A\n",
      "\n",
      "Processing Files (0 / 1)                :  56%|██████████████████████████████████████████████████████████████████████▍                                                        | 2.00GB / 3.61GB,  627MB/s  \u001b[A\u001b[A\n",
      "\n",
      "Processing Files (0 / 1)                :  60%|████████████████████████████████████████████████████████████████████████████▋                                                  | 2.18GB / 3.61GB,  641MB/s  \u001b[A\u001b[A\n",
      "\n",
      "Processing Files (0 / 1)                :  65%|██████████████████████████████████████████████████████████████████████████████████▉                                            | 2.36GB / 3.61GB,  655MB/s  \u001b[A\u001b[A\n",
      "\n",
      "Processing Files (0 / 1)                :  70%|█████████████████████████████████████████████████████████████████████████████████████████                                      | 2.53GB / 3.61GB,  667MB/s  \u001b[A\u001b[A\n",
      "\n",
      "Processing Files (0 / 1)                :  75%|██████████████████████████████████████████████████████████████████████████████████████████████▉                                | 2.70GB / 3.61GB,  675MB/s  \u001b[A\u001b[A\n",
      "\n",
      "Processing Files (0 / 1)                :  80%|█████████████████████████████████████████████████████████████████████████████████████████████████████▏                         | 2.88GB / 3.61GB,  685MB/s  \u001b[A\u001b[A\n",
      "\n"
     ]
    },
    {
     "name": "stderr",
     "output_type": "stream",
     "text": [
      "Processing Files (0 / 1)                :  84%|███████████████████████████████████████████████████████████████████████████████████████████████████████████                    | 3.04GB / 3.61GB,  692MB/s  \u001b[A\u001b[A\n",
      "\n",
      "Processing Files (0 / 1)                :  89%|████████████████████████████████████████████████████████████████████████████████████████████████████████████████▉              | 3.21GB / 3.61GB,  698MB/s  \u001b[A\u001b[A\n",
      "\n",
      "Processing Files (0 / 1)                :  94%|██████████████████████████████████████████████████████████████████████████████████████████████████████████████████████▊        | 3.38GB / 3.61GB,  704MB/s  \u001b[A\u001b[A\n",
      "\n",
      "Processing Files (0 / 1)                :  98%|███████████████████████████████████████████████████████████████████████████████████████████████████████████████████████████▉   | 3.52GB / 3.61GB,  705MB/s  \u001b[A\u001b[A\n",
      "\n",
      "Processing Files (0 / 1)                :  98%|█████████████████████████████████████████████████████████████████████████████████████████████████████████████████████████████  | 3.56GB / 3.61GB,  684MB/s  \u001b[A\u001b[A\n",
      "New Data Upload                         :  94%|███████████████████████████████████████████████████████████████████████████████████████████████████████████████████████        |  817MB /  872MB,  157MB/s  \u001b[A\n",
      "\n",
      "Processing Files (0 / 1)                : 100%|██████████████████████████████████████████████████████████████████████████████████████████████████████████████████████████████▉| 3.61GB / 3.61GB,  669MB/s  \u001b[A\u001b[A\n",
      "New Data Upload                         : 100%|██████████████████████████████████████████████████████████████████████████████████████████████████████████████████████████████▉|  872MB /  872MB,  161MB/s  \u001b[A\n",
      "\n",
      "  /tmp/tmpkd27c6j1/model.safetensors    : 100%|██████████████████████████████████████████████████████████████████████████████████████████████████████████████████████████████▉| 3.61GB / 3.61GB            \u001b[A\u001b[A\n",
      "\n",
      "  /tmp/tmpkd27c6j1/model.safetensors    : 100%|██████████████████████████████████████████████████████████████████████████████████████████████████████████████████████████████▉| 3.61GB / 3.61GB            \u001b[A\u001b[A\n",
      "\n",
      "  /tmp/tmpkd27c6j1/model.safetensors    : 100%|██████████████████████████████████████████████████████████████████████████████████████████████████████████████████████████████▉| 3.61GB / 3.61GB            \u001b[A\u001b[A\n",
      "\n",
      "Processing Files (1 / 1)                : 100%|███████████████████████████████████████████████████████████████████████████████████████████████████████████████████████████████| 3.61GB / 3.61GB,  583MB/s  \u001b[A\u001b[A\n",
      "New Data Upload                         : 100%|███████████████████████████████████████████████████████████████████████████████████████████████████████████████████████████████|  872MB /  872MB,  141MB/s  \u001b[A\n",
      "\n",
      "  /tmp/tmpkd27c6j1/model.safetensors    : 100%|███████████████████████████████████████████████████████████████████████████████████████████████████████████████████████████████| 3.61GB / 3.61GB            \u001b[A\u001b[A\n",
      "\n",
      "  /tmp/tmpkd27c6j1/model.safetensors    : 100%|███████████████████████████████████████████████████████████████████████████████████████████████████████████████████████████████| 3.61GB / 3.61GB            \u001b[A\u001b[A\n",
      "\n",
      "Processing Files (1 / 1)                : 100%|███████████████████████████████████████████████████████████████████████████████████████████████████████████████████████████████| 3.61GB / 3.61GB,  547MB/s  \u001b[A\u001b[A\n",
      "New Data Upload                         : 100%|███████████████████████████████████████████████████████████████████████████████████████████████████████████████████████████████|  872MB /  872MB,  132MB/s  \n",
      "  /tmp/tmpkd27c6j1/model.safetensors    : 100%|███████████████████████████████████████████████████████████████████████████████████████████████████████████████████████████████| 3.61GB / 3.61GB            \n"
     ]
    },
    {
     "data": {
      "text/plain": [
       "CommitInfo(commit_url='https://huggingface.co/mesolitica/gemma3n-audio-encoder-VQ-whisper-decoder/commit/00fff100c20860154df96984ea0bdb68edc428b2', commit_message='Upload GemmaWhisperForConditionalGeneration', commit_description='', oid='00fff100c20860154df96984ea0bdb68edc428b2', pr_url=None, repo_url=RepoUrl('https://huggingface.co/mesolitica/gemma3n-audio-encoder-VQ-whisper-decoder', endpoint='https://huggingface.co', repo_type='model', repo_id='mesolitica/gemma3n-audio-encoder-VQ-whisper-decoder'), pr_revision=None, pr_num=None)"
      ]
     },
     "execution_count": 16,
     "metadata": {},
     "output_type": "execute_result"
    }
   ],
   "source": [
    "model.push_to_hub('mesolitica/gemma3n-audio-encoder-VQ-whisper-decoder')"
   ]
  },
  {
   "cell_type": "code",
   "execution_count": 17,
   "id": "32fdd14a",
   "metadata": {},
   "outputs": [
    {
     "name": "stderr",
     "output_type": "stream",
     "text": [
      "No files have been modified since last commit. Skipping to prevent empty commit.\n"
     ]
    },
    {
     "data": {
      "text/plain": [
       "CommitInfo(commit_url='https://huggingface.co/mesolitica/gemma3n-audio-encoder-VQ-whisper-decoder/commit/00fff100c20860154df96984ea0bdb68edc428b2', commit_message='Upload tokenizer', commit_description='', oid='00fff100c20860154df96984ea0bdb68edc428b2', pr_url=None, repo_url=RepoUrl('https://huggingface.co/mesolitica/gemma3n-audio-encoder-VQ-whisper-decoder', endpoint='https://huggingface.co', repo_type='model', repo_id='mesolitica/gemma3n-audio-encoder-VQ-whisper-decoder'), pr_revision=None, pr_num=None)"
      ]
     },
     "execution_count": 17,
     "metadata": {},
     "output_type": "execute_result"
    }
   ],
   "source": [
    "tokenizer.push_to_hub('mesolitica/gemma3n-audio-encoder-VQ-whisper-decoder')"
   ]
  },
  {
   "cell_type": "code",
   "execution_count": 18,
   "id": "3aa7382e",
   "metadata": {},
   "outputs": [
    {
     "name": "stderr",
     "output_type": "stream",
     "text": [
      "No files have been modified since last commit. Skipping to prevent empty commit.\n"
     ]
    },
    {
     "data": {
      "text/plain": [
       "CommitInfo(commit_url='https://huggingface.co/mesolitica/gemma3n-audio-encoder-VQ-whisper-decoder/commit/00fff100c20860154df96984ea0bdb68edc428b2', commit_message='Upload feature extractor', commit_description='', oid='00fff100c20860154df96984ea0bdb68edc428b2', pr_url=None, repo_url=RepoUrl('https://huggingface.co/mesolitica/gemma3n-audio-encoder-VQ-whisper-decoder', endpoint='https://huggingface.co', repo_type='model', repo_id='mesolitica/gemma3n-audio-encoder-VQ-whisper-decoder'), pr_revision=None, pr_num=None)"
      ]
     },
     "execution_count": 18,
     "metadata": {},
     "output_type": "execute_result"
    }
   ],
   "source": [
    "feature_extractor.push_to_hub('mesolitica/gemma3n-audio-encoder-VQ-whisper-decoder')"
   ]
  },
  {
   "cell_type": "code",
   "execution_count": null,
   "id": "d5e6006f",
   "metadata": {},
   "outputs": [],
   "source": []
  }
 ],
 "metadata": {
  "kernelspec": {
   "display_name": "Python 3 (ipykernel)",
   "language": "python",
   "name": "python3"
  },
  "language_info": {
   "codemirror_mode": {
    "name": "ipython",
    "version": 3
   },
   "file_extension": ".py",
   "mimetype": "text/x-python",
   "name": "python",
   "nbconvert_exporter": "python",
   "pygments_lexer": "ipython3",
   "version": "3.10.12"
  }
 },
 "nbformat": 4,
 "nbformat_minor": 5
}
